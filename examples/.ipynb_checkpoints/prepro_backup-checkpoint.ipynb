{
 "cells": [
  {
   "cell_type": "markdown",
   "id": "92ebe3fc-5aee-404a-aa0f-e4bfe864e852",
   "metadata": {},
   "source": [
    "## Preprocessing Script\n",
    "\n",
    "**Expected output features:**\n",
    "- SRC_PORT\n",
    "- DST_PORT\n",
    "- PROTOCOL\n",
    "- TCP_FLAGS\n",
    "- FLOW_DURATION_MILLISECONDS\n",
    "- BYTES\n",
    "- PKTS\n",
    "\n",
    "**Expected input features** (Normalized Cisco Netflow format):\n",
    "- srcport\n",
    "- dstport\n",
    "- prot\n",
    "- tcp_flags\n",
    "- dOctets\n",
    "- dPkts\n",
    "- first\n",
    "- last\n",
    "\n",
    "**Input file format:** CSV (Assumption)"
   ]
  },
  {
   "cell_type": "markdown",
   "id": "80d96045-ae4a-43db-9798-08d977662af9",
   "metadata": {},
   "source": [
    "#### Library import"
   ]
  },
  {
   "cell_type": "code",
   "execution_count": 8,
   "id": "b3a5f15f-da6a-498c-b854-d681d1ab1029",
   "metadata": {},
   "outputs": [],
   "source": [
    "from catboost import CatBoostClassifier\n",
    "import pandas as pd\n",
    "import json\n",
    "from io import StringIO\n",
    "import sys\n",
    "sys.path.insert(1, './app/')\n",
    "from helpers import constants"
   ]
  },
  {
   "cell_type": "markdown",
   "id": "cb69098b-347b-4ec0-98a3-a2a967e749e1",
   "metadata": {},
   "source": [
    "### Functions"
   ]
  },
  {
   "cell_type": "code",
   "execution_count": 9,
   "id": "83567b4a-1bae-491a-b8d3-1f99099d62af",
   "metadata": {},
   "outputs": [],
   "source": [
    "def model_fn(model_dir):\n",
    "    \"\"\"Funtion that load the machine learning trained model\n",
    "    \n",
    "    Args:\n",
    "        model_dir: Path in which the model is located\n",
    "    \n",
    "    Returns: Catboost ML trained model.\n",
    "    \"\"\"\n",
    "    model = CatBoostClassifier()\n",
    "    model.load_model(model_dir,\n",
    "                    format='cbm')\n",
    "    return model"
   ]
  },
  {
   "cell_type": "code",
   "execution_count": 10,
   "id": "951b4773-899b-47fe-bded-ca12a884906f",
   "metadata": {},
   "outputs": [],
   "source": [
    "def input_fn(input_data, content_type):\n",
    "    \"\"\"A input function that can handle JSON and CSV formats.\n",
    "\n",
    "    Args:\n",
    "        input_data: the request payload serialized in the content_type format\n",
    "        content_type: the request content_type\n",
    "\n",
    "    Returns: input_data transformed and ready to be ingested into the model.\n",
    "    \"\"\"\n",
    "    if content_type == 'text/csv':\n",
    "        temp_data = StringIO(input_data)\n",
    "        record = pd.read_csv(temp_data,\n",
    "                           names=constants.netflow_v5_column_names[:-1], \n",
    "                           sep = ',')\n",
    "    elif content_type == 'application/json':\n",
    "        record = pd.DataFrame(json.loads(input_data)['features'], columns = constants.netflow_v5_column_names[:-1])\n",
    "    else:\n",
    "        print('wrong content type')\n",
    "    #Rename to standard feature names\n",
    "    data = record.copy()\n",
    "    data.rename(columns=constants.column_rename, inplace = True)\n",
    "\n",
    "    # DST/SRC port mapping\n",
    "    data['SRC_PORT'] = data['SRC_PORT'].map(constants.port_map)\n",
    "    data.SRC_PORT.fillna('Others', inplace = True)\n",
    "\n",
    "    data['DST_PORT'] = data['DST_PORT'].map(constants.port_map)\n",
    "    data.DST_PORT.fillna('Others', inplace = True)\n",
    "\n",
    "    #Protocol mapping (cat. variable convertion)\n",
    "    data['PROTOCOL'] = data['PROTOCOL'].map(constants.protocol_map) \n",
    "    data.PROTOCOL.fillna('Others', inplace = True)\n",
    "\n",
    "    #tcp flags dtype conversion\n",
    "    data['TCP_FLAGS'] = data['TCP_FLAGS'].astype(str)\n",
    "\n",
    "    #flow duration calculation\n",
    "    data['FLOW_DURATION_MILLISECONDS'] = data['Last'] - data['First']\n",
    "        ##data.drop(['Last', 'First'], axis = 1, inplace = True)\n",
    "    \n",
    "    data = data[['SRC_PORT', 'DST_PORT', 'PROTOCOL',\n",
    "                           'TCP_FLAGS', 'FLOW_DURATION_MILLISECONDS', \n",
    "                           'BYTES', 'PKTS']]\n",
    "        \n",
    "    return data, record"
   ]
  },
  {
   "cell_type": "code",
   "execution_count": 11,
   "id": "c72972fb-d407-4628-8878-fa5898229d9c",
   "metadata": {},
   "outputs": [],
   "source": [
    "def predict_fn(data, model):\n",
    "        \"\"\"A default predict_fn for PyTorch. Calls a model on data deserialized in input_fn.\n",
    "        Runs prediction on GPU if cuda is available.\n",
    "\n",
    "        Args:\n",
    "            data: post-processed input data for prediction\n",
    "            model: Catboost model loaded in memory by model_fn\n",
    "\n",
    "        Returns: a prediction\n",
    "        \"\"\"\n",
    "        prediction_temp = model.predict(data)\n",
    "        prediction = [constants.attack_map[value] for [value] in prediction_temp]\n",
    "        \n",
    "        return prediction"
   ]
  },
  {
   "cell_type": "code",
   "execution_count": 12,
   "id": "b3d896b0-1ba1-4157-8149-f3ef1e49d7fa",
   "metadata": {},
   "outputs": [],
   "source": [
    "def output_fn(data, prediction):\n",
    "        \"\"\"Output function. Serializes predictions from predict_fn to JSON\n",
    "\n",
    "        Args:\n",
    "            prediction: a prediction result from predict_fn\n",
    " \n",
    "        Returns: output data serialized\n",
    "        \"\"\"\n",
    "        data['prediction'] = prediction\n",
    "        response = {'prediction' : data.values.tolist()}\n",
    "        return json.dumps(response, indent = 4)"
   ]
  },
  {
   "cell_type": "markdown",
   "id": "5fccbafb-529d-425e-a651-bc74de5692ff",
   "metadata": {},
   "source": [
    "### Unit test"
   ]
  },
  {
   "cell_type": "markdown",
   "id": "a0ceb86f-5efb-4792-9c9d-58a3a6f39e62",
   "metadata": {},
   "source": [
    "Import model"
   ]
  },
  {
   "cell_type": "code",
   "execution_count": 14,
   "id": "a52dcdc9-fba5-4b0f-9b51-cae712b7a13a",
   "metadata": {},
   "outputs": [],
   "source": [
    "model = model_fn('../../components/netflow-ai/notebooks/stage_3/model_training/trained_models/model_v12')"
   ]
  },
  {
   "cell_type": "markdown",
   "id": "48d8ea6c-ebca-4a70-be8d-6dba19e9fcde",
   "metadata": {},
   "source": [
    "Ingest data - preprocessing"
   ]
  },
  {
   "cell_type": "code",
   "execution_count": 15,
   "id": "ab44fd3e-28c9-4dab-8745-b3a9a115f530",
   "metadata": {},
   "outputs": [
    {
     "data": {
      "text/html": [
       "<div>\n",
       "<style scoped>\n",
       "    .dataframe tbody tr th:only-of-type {\n",
       "        vertical-align: middle;\n",
       "    }\n",
       "\n",
       "    .dataframe tbody tr th {\n",
       "        vertical-align: top;\n",
       "    }\n",
       "\n",
       "    .dataframe thead th {\n",
       "        text-align: right;\n",
       "    }\n",
       "</style>\n",
       "<table border=\"1\" class=\"dataframe\">\n",
       "  <thead>\n",
       "    <tr style=\"text-align: right;\">\n",
       "      <th></th>\n",
       "      <th>srcaddr</th>\n",
       "      <th>dstaddr</th>\n",
       "      <th>nexthop</th>\n",
       "      <th>input</th>\n",
       "      <th>output</th>\n",
       "      <th>dPkts</th>\n",
       "      <th>dOctets</th>\n",
       "      <th>First</th>\n",
       "      <th>Last</th>\n",
       "      <th>srcport</th>\n",
       "      <th>dstport</th>\n",
       "      <th>pad1</th>\n",
       "      <th>tcp_flags</th>\n",
       "      <th>prot</th>\n",
       "      <th>tos</th>\n",
       "      <th>src_as</th>\n",
       "      <th>dst_as</th>\n",
       "      <th>src_mask</th>\n",
       "      <th>dst_mask</th>\n",
       "      <th>pad2</th>\n",
       "    </tr>\n",
       "  </thead>\n",
       "  <tbody>\n",
       "    <tr>\n",
       "      <th>0</th>\n",
       "      <td>1234</td>\n",
       "      <td>3456</td>\n",
       "      <td>2345</td>\n",
       "      <td>12</td>\n",
       "      <td>13</td>\n",
       "      <td>3</td>\n",
       "      <td>120</td>\n",
       "      <td>1000</td>\n",
       "      <td>3078</td>\n",
       "      <td>0</td>\n",
       "      <td>80</td>\n",
       "      <td>2</td>\n",
       "      <td>32</td>\n",
       "      <td>17</td>\n",
       "      <td>3</td>\n",
       "      <td>12</td>\n",
       "      <td>3</td>\n",
       "      <td>24</td>\n",
       "      <td>123</td>\n",
       "      <td>4</td>\n",
       "    </tr>\n",
       "    <tr>\n",
       "      <th>1</th>\n",
       "      <td>1234</td>\n",
       "      <td>3456</td>\n",
       "      <td>2345</td>\n",
       "      <td>12</td>\n",
       "      <td>13</td>\n",
       "      <td>2</td>\n",
       "      <td>280</td>\n",
       "      <td>1000</td>\n",
       "      <td>3078</td>\n",
       "      <td>0</td>\n",
       "      <td>80</td>\n",
       "      <td>2</td>\n",
       "      <td>2</td>\n",
       "      <td>6</td>\n",
       "      <td>3</td>\n",
       "      <td>12</td>\n",
       "      <td>3</td>\n",
       "      <td>24</td>\n",
       "      <td>123</td>\n",
       "      <td>4</td>\n",
       "    </tr>\n",
       "  </tbody>\n",
       "</table>\n",
       "</div>"
      ],
      "text/plain": [
       "   srcaddr  dstaddr  nexthop  input  output  dPkts  dOctets  First  Last  \\\n",
       "0     1234     3456     2345     12      13      3      120   1000  3078   \n",
       "1     1234     3456     2345     12      13      2      280   1000  3078   \n",
       "\n",
       "   srcport  dstport  pad1  tcp_flags  prot  tos  src_as  dst_as  src_mask  \\\n",
       "0        0       80     2         32    17    3      12       3        24   \n",
       "1        0       80     2          2     6    3      12       3        24   \n",
       "\n",
       "   dst_mask  pad2  \n",
       "0       123     4  \n",
       "1       123     4  "
      ]
     },
     "execution_count": 15,
     "metadata": {},
     "output_type": "execute_result"
    }
   ],
   "source": [
    "input_data_csv = \"1234,3456,2345,12,13,3,120,1000,3078,0,80,2,32,17,3,12,3,24,123,4\\n1234,3456,2345,12,13,2,280,1000,3078,0,80,2,2,6,3,12,3,24,123,4\"\n",
    "content_type_csv = \"text/csv\"\n",
    "\n",
    "input_data_json = json.dumps({'features' : [[1234,3456,2345,12,13,3,120,1000,3078,0,80,2,32,17,3,12,3,24,123,4], [1234,3456,2345,12,13,2,280,1000,3078,0,80,2,2,6,3,12,3,24,123,4]] \n",
    "                             })\n",
    "content_type_json = \"application/json\"\n",
    "\n",
    "data = input_fn(input_data_json, content_type_json)\n",
    "data[1]"
   ]
  },
  {
   "cell_type": "markdown",
   "id": "cb7d74a8-3195-47c4-80a1-57c8b71a2012",
   "metadata": {},
   "source": [
    "Make predictions"
   ]
  },
  {
   "cell_type": "code",
   "execution_count": 16,
   "id": "88f2fa0e-fbf3-4242-a1dd-5204218136ec",
   "metadata": {},
   "outputs": [
    {
     "name": "stdout",
     "output_type": "stream",
     "text": [
      "['DoS', 'DoS']\n"
     ]
    }
   ],
   "source": [
    "prediction = predict_fn(data[0], model)\n",
    "print(prediction)"
   ]
  },
  {
   "cell_type": "markdown",
   "id": "4d53cced-4e54-4224-ada2-a2fb74c8fc45",
   "metadata": {},
   "source": [
    "Output values - ready to be sent"
   ]
  },
  {
   "cell_type": "code",
   "execution_count": 17,
   "id": "a2d486f8-e9d6-41ab-adab-f6b0ac67272b",
   "metadata": {
    "tags": []
   },
   "outputs": [],
   "source": [
    "output = output_fn(data[1], prediction)"
   ]
  },
  {
   "cell_type": "code",
   "execution_count": 19,
   "id": "caed550a-7c5e-470b-8d14-f69bc1785cde",
   "metadata": {},
   "outputs": [
    {
     "data": {
      "text/html": [
       "<div>\n",
       "<style scoped>\n",
       "    .dataframe tbody tr th:only-of-type {\n",
       "        vertical-align: middle;\n",
       "    }\n",
       "\n",
       "    .dataframe tbody tr th {\n",
       "        vertical-align: top;\n",
       "    }\n",
       "\n",
       "    .dataframe thead th {\n",
       "        text-align: right;\n",
       "    }\n",
       "</style>\n",
       "<table border=\"1\" class=\"dataframe\">\n",
       "  <thead>\n",
       "    <tr style=\"text-align: right;\">\n",
       "      <th></th>\n",
       "      <th>srcaddr</th>\n",
       "      <th>dstaddr</th>\n",
       "      <th>nexthop</th>\n",
       "      <th>input</th>\n",
       "      <th>output</th>\n",
       "      <th>dPkts</th>\n",
       "      <th>dOctets</th>\n",
       "      <th>First</th>\n",
       "      <th>Last</th>\n",
       "      <th>srcport</th>\n",
       "      <th>...</th>\n",
       "      <th>pad1</th>\n",
       "      <th>tcp_flags</th>\n",
       "      <th>prot</th>\n",
       "      <th>tos</th>\n",
       "      <th>src_as</th>\n",
       "      <th>dst_as</th>\n",
       "      <th>src_mask</th>\n",
       "      <th>dst_mask</th>\n",
       "      <th>pad2</th>\n",
       "      <th>prediction</th>\n",
       "    </tr>\n",
       "  </thead>\n",
       "  <tbody>\n",
       "    <tr>\n",
       "      <th>0</th>\n",
       "      <td>1234</td>\n",
       "      <td>3456</td>\n",
       "      <td>2345</td>\n",
       "      <td>12</td>\n",
       "      <td>13</td>\n",
       "      <td>3</td>\n",
       "      <td>120</td>\n",
       "      <td>1000</td>\n",
       "      <td>3078</td>\n",
       "      <td>0</td>\n",
       "      <td>...</td>\n",
       "      <td>2</td>\n",
       "      <td>32</td>\n",
       "      <td>17</td>\n",
       "      <td>3</td>\n",
       "      <td>12</td>\n",
       "      <td>3</td>\n",
       "      <td>24</td>\n",
       "      <td>123</td>\n",
       "      <td>4</td>\n",
       "      <td>DoS</td>\n",
       "    </tr>\n",
       "    <tr>\n",
       "      <th>1</th>\n",
       "      <td>1234</td>\n",
       "      <td>3456</td>\n",
       "      <td>2345</td>\n",
       "      <td>12</td>\n",
       "      <td>13</td>\n",
       "      <td>2</td>\n",
       "      <td>280</td>\n",
       "      <td>1000</td>\n",
       "      <td>3078</td>\n",
       "      <td>0</td>\n",
       "      <td>...</td>\n",
       "      <td>2</td>\n",
       "      <td>2</td>\n",
       "      <td>6</td>\n",
       "      <td>3</td>\n",
       "      <td>12</td>\n",
       "      <td>3</td>\n",
       "      <td>24</td>\n",
       "      <td>123</td>\n",
       "      <td>4</td>\n",
       "      <td>DoS</td>\n",
       "    </tr>\n",
       "  </tbody>\n",
       "</table>\n",
       "<p>2 rows × 21 columns</p>\n",
       "</div>"
      ],
      "text/plain": [
       "   srcaddr  dstaddr  nexthop  input  output  dPkts  dOctets  First  Last  \\\n",
       "0     1234     3456     2345     12      13      3      120   1000  3078   \n",
       "1     1234     3456     2345     12      13      2      280   1000  3078   \n",
       "\n",
       "   srcport  ...  pad1  tcp_flags  prot  tos  src_as  dst_as  src_mask  \\\n",
       "0        0  ...     2         32    17    3      12       3        24   \n",
       "1        0  ...     2          2     6    3      12       3        24   \n",
       "\n",
       "   dst_mask  pad2  prediction  \n",
       "0       123     4         DoS  \n",
       "1       123     4         DoS  \n",
       "\n",
       "[2 rows x 21 columns]"
      ]
     },
     "execution_count": 19,
     "metadata": {},
     "output_type": "execute_result"
    }
   ],
   "source": [
    "pd.DataFrame(json.loads(output)['prediction'], columns = constants.netflow_v5_column_names)"
   ]
  }
 ],
 "metadata": {
  "kernelspec": {
   "display_name": "Python 3",
   "language": "python",
   "name": "python3"
  },
  "language_info": {
   "codemirror_mode": {
    "name": "ipython",
    "version": 3
   },
   "file_extension": ".py",
   "mimetype": "text/x-python",
   "name": "python",
   "nbconvert_exporter": "python",
   "pygments_lexer": "ipython3",
   "version": "3.8.8"
  }
 },
 "nbformat": 4,
 "nbformat_minor": 5
}
